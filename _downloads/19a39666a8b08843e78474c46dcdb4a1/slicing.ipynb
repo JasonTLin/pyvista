{
  "cells": [
    {
      "cell_type": "code",
      "execution_count": null,
      "metadata": {
        "collapsed": false
      },
      "outputs": [],
      "source": [
        "%matplotlib inline\nfrom pyvista import set_plot_theme\nset_plot_theme('document')"
      ]
    },
    {
      "cell_type": "markdown",
      "metadata": {},
      "source": [
        "\nSlicing\n~~~~~~~\n\nExtract thin planar slices from a volume\n"
      ]
    },
    {
      "cell_type": "code",
      "execution_count": null,
      "metadata": {
        "collapsed": false
      },
      "outputs": [],
      "source": [
        "# sphinx_gallery_thumbnail_number = 2\nimport pyvista as pv\nfrom pyvista import examples\nimport matplotlib.pyplot as plt\nimport numpy as np"
      ]
    },
    {
      "cell_type": "markdown",
      "metadata": {},
      "source": [
        "PyVista meshes have several slicing filters bound directly to all datasets.\nThes filters allow you to slice through a volumetric dataset to extract and\nview sections through the volume of data.\n\nOne of the most common slicing filters used in PyVista is the\n:func:`pyvista.DataSetFilters.slice_orthogonal` filter which creates three\northogonal slices through the dataset on the three caresian planes.\nFor example, let's slice through the sample geostatitical training image\nvolume. First, load up the volume and preview it:\n\n"
      ]
    },
    {
      "cell_type": "code",
      "execution_count": null,
      "metadata": {
        "collapsed": false
      },
      "outputs": [],
      "source": [
        "mesh = examples.load_channels()\n# define a categorical colormap\ncmap = plt.cm.get_cmap(\"viridis\", 4)\n\n\nmesh.plot(cmap=cmap)"
      ]
    },
    {
      "cell_type": "markdown",
      "metadata": {},
      "source": [
        "Note that this dataset is a 3D volume and their might be regions within the\nvolume that we would like to inspect. We can create slices through the mesh\nto gain insight about the internals of the volume.\n\n"
      ]
    },
    {
      "cell_type": "code",
      "execution_count": null,
      "metadata": {
        "collapsed": false
      },
      "outputs": [],
      "source": [
        "slices = mesh.slice_orthogonal()\n\nslices.plot(cmap=cmap)"
      ]
    },
    {
      "cell_type": "markdown",
      "metadata": {},
      "source": [
        "The orthogonal slices can be easily translated throughout the volume:\n\n"
      ]
    },
    {
      "cell_type": "code",
      "execution_count": null,
      "metadata": {
        "collapsed": false
      },
      "outputs": [],
      "source": [
        "slices = mesh.slice_orthogonal(x=20, y=20, z=30)\nslices.plot(cmap=cmap)"
      ]
    },
    {
      "cell_type": "markdown",
      "metadata": {},
      "source": [
        "We can also add just a single slice of the volume by specifying the origin\nand normal of the slicing plane with the :func:`pyvista.DataSetFilters.slice`\nfilter:\n\n"
      ]
    },
    {
      "cell_type": "code",
      "execution_count": null,
      "metadata": {
        "collapsed": false
      },
      "outputs": [],
      "source": [
        "# Sing slice - origin defaults to center of the mesh\nsingle_slice = mesh.slice(normal=[1, 1, 0])\n\np = pv.Plotter()\np.add_mesh(mesh.outline(), color=\"k\")\np.add_mesh(single_slice, cmap=cmap)\np.show()"
      ]
    },
    {
      "cell_type": "markdown",
      "metadata": {},
      "source": [
        "Adding slicing planes uniformly across an axial direction can also be\nautomated with the :func:`pyvista.DataSetFilters.slice_along_axis` filter:\n\n"
      ]
    },
    {
      "cell_type": "code",
      "execution_count": null,
      "metadata": {
        "collapsed": false
      },
      "outputs": [],
      "source": [
        "slices = mesh.slice_along_axis(n=7, axis=\"y\")\n\nslices.plot(cmap=cmap)"
      ]
    },
    {
      "cell_type": "markdown",
      "metadata": {},
      "source": [
        "Slice Along Line\n++++++++++++++++\n\nWe can also slice a dataset along a :func:`pyvista.Spline` or\n:func:`pyvista.Line` using the :func:`DataSetFilters.slice_along_line` filter.\n\nFirst, define a line source through a datset of interest. Please note\nthat this type of slicing is computationally expensive and might take a while\nif there are a lot of points in the line - try to keep the resolution of\nthe line low.\n\n"
      ]
    },
    {
      "cell_type": "code",
      "execution_count": null,
      "metadata": {
        "collapsed": false
      },
      "outputs": [],
      "source": [
        "model = examples.load_channels()\n\n\ndef path(y):\n    \"\"\"Equation: x = a(y-h)^2 + k\"\"\"\n    a = 110.0 / 160.0 ** 2\n    x = a * y ** 2 + 0.0\n    return x, y\n\n\nx, y = path(np.arange(model.bounds[2], model.bounds[3], 15.0))\nzo = np.linspace(9.0, 11.0, num=len(y))\npoints = np.c_[x, y, zo]\nspline = pv.Spline(points, 15)\nprint(spline)"
      ]
    },
    {
      "cell_type": "markdown",
      "metadata": {},
      "source": [
        "Then run the filter\n\n"
      ]
    },
    {
      "cell_type": "code",
      "execution_count": null,
      "metadata": {
        "collapsed": false
      },
      "outputs": [],
      "source": [
        "slc = model.slice_along_line(spline)\nprint(slc)"
      ]
    },
    {
      "cell_type": "code",
      "execution_count": null,
      "metadata": {
        "collapsed": false
      },
      "outputs": [],
      "source": [
        "p = pv.Plotter()\np.add_mesh(slc)\np.add_mesh(model.outline())\np.show(cpos=[1, -1, 1])"
      ]
    }
  ],
  "metadata": {
    "kernelspec": {
      "display_name": "Python 3",
      "language": "python",
      "name": "python3"
    },
    "language_info": {
      "codemirror_mode": {
        "name": "ipython",
        "version": 3
      },
      "file_extension": ".py",
      "mimetype": "text/x-python",
      "name": "python",
      "nbconvert_exporter": "python",
      "pygments_lexer": "ipython3",
      "version": "3.7.1"
    }
  },
  "nbformat": 4,
  "nbformat_minor": 0
}