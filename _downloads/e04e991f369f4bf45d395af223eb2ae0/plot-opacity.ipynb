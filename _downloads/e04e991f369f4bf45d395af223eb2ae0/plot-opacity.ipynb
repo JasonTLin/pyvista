{
  "cells": [
    {
      "cell_type": "code",
      "execution_count": null,
      "metadata": {
        "collapsed": false
      },
      "outputs": [],
      "source": [
        "%matplotlib inline\nfrom pyvista import set_plot_theme\nset_plot_theme('document')"
      ]
    },
    {
      "cell_type": "markdown",
      "metadata": {},
      "source": [
        "\nPlot with Opacity\n~~~~~~~~~~~~~~~~~\n\nPlot a mesh's scalar array with an opacity trasfer funciton\n"
      ]
    },
    {
      "cell_type": "code",
      "execution_count": null,
      "metadata": {
        "collapsed": false
      },
      "outputs": [],
      "source": [
        "import pyvista as pv\nfrom pyvista import examples"
      ]
    },
    {
      "cell_type": "markdown",
      "metadata": {},
      "source": [
        "It's possible to apply an opacity mapping to any scalar array plotted. You can\nspecify either a single static value to make the mesh opaque on all cells, or\nuse a transfer function where the scalar array plotted is mapped to the opacity.\n\nOpacity transfer function options are:\n\n- ``'linear'``: linearly vary (increase) opacity across the plotted scalar range from low to high\n- ``'linear_r'``: linearly vary (increase) opacity across the plotted scalar range from high to low\n- ``'geom'``: on a log scale, vary (increase) opacity across the plotted scalar range from low to high\n- ``'geom_r'``: on a log scale, vary (increase) opacity across the plotted scalar range from high to low\n- ``'sigmoid'``: vary (increase) opacity on a sigmoidal s-curve across the plotted scalar range from low to high\n- ``'sigmoid_r'``: vary (increase) opacity on a sigmoidal s-curve across the plotted scalar range from high to low\n\n"
      ]
    },
    {
      "cell_type": "code",
      "execution_count": null,
      "metadata": {
        "collapsed": false
      },
      "outputs": [],
      "source": [
        "# Load St Helens DEM and warp the topography\nmesh = examples.download_st_helens().warp_by_scalar()\n\nmesh.plot(opacity='linear')"
      ]
    },
    {
      "cell_type": "markdown",
      "metadata": {},
      "source": [
        "Opacity mapping is often useful when plotting DICOM images. For example,\ndownload the sample knee DICOM image:\n\n"
      ]
    },
    {
      "cell_type": "code",
      "execution_count": null,
      "metadata": {
        "collapsed": false
      },
      "outputs": [],
      "source": [
        "knee = examples.download_knee()"
      ]
    },
    {
      "cell_type": "markdown",
      "metadata": {},
      "source": [
        "And here we inspect the DICOM image with a few different opacity mappings:\n\n"
      ]
    },
    {
      "cell_type": "code",
      "execution_count": null,
      "metadata": {
        "collapsed": false
      },
      "outputs": [],
      "source": [
        "p = pv.Plotter(shape=(2,2), border=False)\n\np.add_mesh(knee, cmap='bone', stitle='No Opacity')\np.view_xy()\n\np.subplot(0,1)\np.add_mesh(knee, cmap='bone', opacity='linear', stitle='Linear Opacity')\np.view_xy()\n\np.subplot(1,0)\np.add_mesh(knee, cmap='bone', opacity='sigmoid', stitle='Sigmoidal Opacity')\np.view_xy()\n\np.subplot(1,1)\np.add_mesh(knee, cmap='bone', opacity='geom_r', stitle='Log Scale Opacity')\np.view_xy()\n\np.show()"
      ]
    }
  ],
  "metadata": {
    "kernelspec": {
      "display_name": "Python 3",
      "language": "python",
      "name": "python3"
    },
    "language_info": {
      "codemirror_mode": {
        "name": "ipython",
        "version": 3
      },
      "file_extension": ".py",
      "mimetype": "text/x-python",
      "name": "python",
      "nbconvert_exporter": "python",
      "pygments_lexer": "ipython3",
      "version": "3.7.1"
    }
  },
  "nbformat": 4,
  "nbformat_minor": 0
}