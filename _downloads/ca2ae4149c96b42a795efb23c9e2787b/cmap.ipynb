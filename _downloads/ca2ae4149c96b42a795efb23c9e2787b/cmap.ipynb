{
  "cells": [
    {
      "cell_type": "code",
      "execution_count": null,
      "metadata": {
        "collapsed": false
      },
      "outputs": [],
      "source": [
        "%matplotlib inline\nfrom pyvista import set_plot_theme\nset_plot_theme('document')"
      ]
    },
    {
      "cell_type": "markdown",
      "metadata": {},
      "source": [
        "\nColormap Choices\n~~~~~~~~~~~~~~~~\n\nUse a Matplotlib, Colorcet, cmocean, or custom colormap when plotting scalar\nvalues.\n"
      ]
    },
    {
      "cell_type": "code",
      "execution_count": null,
      "metadata": {
        "collapsed": false
      },
      "outputs": [],
      "source": [
        "from pyvista import examples\nimport pyvista as pv\nimport matplotlib.pyplot as plt"
      ]
    },
    {
      "cell_type": "markdown",
      "metadata": {},
      "source": [
        "Any colormap built for ``matplotlib``, ``colorcet``, or ``cmocean`` is fully\ncompatible with PyVista. Colormaps are typically specified by passing the\nstring name of the colormap to the plotting routine via the ``cmap``\nargument.\n\nSee `Matplotlib's complete list of available colormaps`_,\n`Colorcet's complete list`_, and `cmocean's complete list`_.\n\n\nTo get started using a custom colormap, download some data with scalars to\nplot.\n\n"
      ]
    },
    {
      "cell_type": "code",
      "execution_count": null,
      "metadata": {
        "collapsed": false
      },
      "outputs": [],
      "source": [
        "mesh = examples.download_st_helens().warp_by_scalar()"
      ]
    },
    {
      "cell_type": "markdown",
      "metadata": {},
      "source": [
        "Build a custom colormap - here we just make a viridis map with 5 discrete\ncolors, but you could make this as complex or simple as you desire.\n\n"
      ]
    },
    {
      "cell_type": "code",
      "execution_count": null,
      "metadata": {
        "collapsed": false
      },
      "outputs": [],
      "source": [
        "cmap = plt.cm.get_cmap(\"viridis\", 5)"
      ]
    },
    {
      "cell_type": "markdown",
      "metadata": {},
      "source": [
        "Simply pass the colormap to the plotting routine!\n\n"
      ]
    },
    {
      "cell_type": "code",
      "execution_count": null,
      "metadata": {
        "collapsed": false
      },
      "outputs": [],
      "source": [
        "mesh.plot(cmap=cmap, cpos=\"xy\")"
      ]
    },
    {
      "cell_type": "markdown",
      "metadata": {},
      "source": [
        "Matplotlib vs. Colorcet\n+++++++++++++++++++++++\n\nLet's compare Colorcet's perceptually uniform \"fire\" colormap to Matplotlib's\n\"hot\" colormap much like the example on the `first page of Colorcet's docs`_.\n\n\nThe \"hot\" version washes out detail at the high end, as if the image is\noverexposed, while \"fire\" makes detail visible throughout the data range.\n\nPlease note that in order to use Colorcet's colormaps including \"fire\", you\nmust have Colorcet installed in your Python environment:\n``pip install colorcet``\n\n"
      ]
    },
    {
      "cell_type": "code",
      "execution_count": null,
      "metadata": {
        "collapsed": false
      },
      "outputs": [],
      "source": [
        "p = pv.Plotter(shape=(2, 2), border=False)\np.subplot(0, 0)\np.add_mesh(mesh, cmap=\"fire\", lighting=True, stitle=\"Colorcet Fire\")\n\np.subplot(0, 1)\np.add_mesh(mesh, cmap=\"fire\", lighting=False, stitle=\"Colorcet Fire (No Lighting)\")\n\np.subplot(1, 0)\np.add_mesh(mesh, cmap=\"hot\", lighting=True, stitle=\"Matplotlib Hot\")\n\np.subplot(1, 1)\np.add_mesh(mesh, cmap=\"hot\", lighting=False, stitle=\"Matplotlib Hot (No Lighting)\")\n\np.show()"
      ]
    }
  ],
  "metadata": {
    "kernelspec": {
      "display_name": "Python 3",
      "language": "python",
      "name": "python3"
    },
    "language_info": {
      "codemirror_mode": {
        "name": "ipython",
        "version": 3
      },
      "file_extension": ".py",
      "mimetype": "text/x-python",
      "name": "python",
      "nbconvert_exporter": "python",
      "pygments_lexer": "ipython3",
      "version": "3.7.1"
    }
  },
  "nbformat": 4,
  "nbformat_minor": 0
}