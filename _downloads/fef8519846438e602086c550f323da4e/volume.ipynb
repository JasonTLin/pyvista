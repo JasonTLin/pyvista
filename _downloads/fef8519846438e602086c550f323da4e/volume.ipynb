{
  "cells": [
    {
      "cell_type": "code",
      "execution_count": null,
      "metadata": {
        "collapsed": false
      },
      "outputs": [],
      "source": [
        "%matplotlib inline\nfrom pyvista import set_plot_theme\nset_plot_theme('document')"
      ]
    },
    {
      "cell_type": "markdown",
      "metadata": {},
      "source": [
        "\nVolume Rendering\n~~~~~~~~~~~~~~~~\n\nVolume render uniform mesh types like :class:`pyvista.UniformGrid` or 3D\nNumPy arrays\n"
      ]
    },
    {
      "cell_type": "code",
      "execution_count": null,
      "metadata": {
        "collapsed": false
      },
      "outputs": [],
      "source": [
        "# sphinx_gallery_thumbnail_number = 2\nimport pyvista as pv\nfrom pyvista import examples\n\n# Volume rednering is not supported with Panel yet\npv.rcParams[\"use_panel\"] = False\n\n# Download a volumetric dataset\nvol = examples.download_knee_full()\nprint(vol)"
      ]
    },
    {
      "cell_type": "markdown",
      "metadata": {},
      "source": [
        "Simple Volume Render\n++++++++++++++++++++\n\n\n"
      ]
    },
    {
      "cell_type": "code",
      "execution_count": null,
      "metadata": {
        "collapsed": false
      },
      "outputs": [],
      "source": [
        "# A nice camera position\ncpos = [(-381.74, -46.02, 216.54), (74.8305, 89.2905, 100.0), (0.23, 0.072, 0.97)]\n\nvol.plot(volume=True, cmap=\"bone\", cpos=cpos)"
      ]
    },
    {
      "cell_type": "markdown",
      "metadata": {},
      "source": [
        "Opacity Mappings\n++++++++++++++++\n\nOr use the :func:`pyvista.BasePlotter.add_volume` method like below.\nNote that here we use a non-default opacity mapping to a sigmoid:\n\n"
      ]
    },
    {
      "cell_type": "code",
      "execution_count": null,
      "metadata": {
        "collapsed": false
      },
      "outputs": [],
      "source": [
        "p = pv.Plotter()\np.add_volume(vol, cmap=\"bone\", opacity=\"sigmoid\")\np.camera_position = cpos\np.show()"
      ]
    },
    {
      "cell_type": "markdown",
      "metadata": {},
      "source": [
        "Cool Volume Examples\n++++++++++++++++++++\n\nHere are a few more cool colume rendering examples\n\n"
      ]
    },
    {
      "cell_type": "code",
      "execution_count": null,
      "metadata": {
        "collapsed": false
      },
      "outputs": [],
      "source": [
        "head = examples.download_head()\n\np = pv.Plotter()\np.add_volume(head, cmap=\"cool\", opacity=\"sigmoid_6\")\np.camera_position = [(-228.0, -418.0, -158.0), (94.0, 122.0, 82.0), (-0.2, -0.3, 0.9)]\np.show()"
      ]
    },
    {
      "cell_type": "code",
      "execution_count": null,
      "metadata": {
        "collapsed": false
      },
      "outputs": [],
      "source": [
        "bolt_nut = examples.download_bolt_nut()\n\np = pv.Plotter()\np.add_volume(bolt_nut, cmap=\"coolwarm\", opacity=\"sigmoid_5\")\np.show()"
      ]
    },
    {
      "cell_type": "code",
      "execution_count": null,
      "metadata": {
        "collapsed": false
      },
      "outputs": [],
      "source": [
        "frog = examples.download_frog()\n\np = pv.Plotter()\np.add_volume(frog, cmap=\"viridis\", opacity=\"sigmoid_6\")\np.camera_position = [(929., 1067., -278.9),\n                     (249.5, 234.5, 101.25),\n                     (-0.2048, -0.2632, -0.9427)]\np.show()"
      ]
    }
  ],
  "metadata": {
    "kernelspec": {
      "display_name": "Python 3",
      "language": "python",
      "name": "python3"
    },
    "language_info": {
      "codemirror_mode": {
        "name": "ipython",
        "version": 3
      },
      "file_extension": ".py",
      "mimetype": "text/x-python",
      "name": "python",
      "nbconvert_exporter": "python",
      "pygments_lexer": "ipython3",
      "version": "3.7.1"
    }
  },
  "nbformat": 4,
  "nbformat_minor": 0
}